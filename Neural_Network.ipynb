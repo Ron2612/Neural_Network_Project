{
 "cells": [
  {
   "cell_type": "markdown",
   "metadata": {},
   "source": [
    "# Gesture Recognition\n",
    "\n",
    "In this group project, you are going to build a 3D Conv model that will be able to predict the 5 gestures correctly. Please import the following libraries to get started.\n"
   ]
  },
  {
   "cell_type": "code",
   "execution_count": 1,
   "metadata": {},
   "outputs": [],
   "source": [
    "import numpy as np\n",
    "import os\n",
    "from imageio import imread\n",
    "from skimage.transform import resize\n",
    "import datetime\n",
    "import os"
   ]
  },
  {
   "cell_type": "markdown",
   "metadata": {},
   "source": [
    "We set the random seed so that the results don't vary drastically.\n"
   ]
  },
  {
   "cell_type": "code",
   "execution_count": 2,
   "metadata": {},
   "outputs": [
    {
     "name": "stderr",
     "output_type": "stream",
     "text": [
      "2024-02-27 21:36:39.718414: I tensorflow/core/platform/cpu_feature_guard.cc:182] This TensorFlow binary is optimized to use available CPU instructions in performance-critical operations.\n",
      "To enable the following instructions: SSE4.1 SSE4.2 AVX AVX2 FMA, in other operations, rebuild TensorFlow with the appropriate compiler flags.\n"
     ]
    }
   ],
   "source": [
    "np.random.seed(30)\n",
    "import random as rn\n",
    "\n",
    "rn.seed(30)\n",
    "from keras import backend as K\n",
    "import tensorflow as tf\n",
    "\n",
    "tf.random.set_seed(30)"
   ]
  },
  {
   "cell_type": "markdown",
   "metadata": {},
   "source": [
    "In this block, you read the folder names for training and validation. You also set the `batch_size` here. Note that you set the batch size in such a way that you are able to use the GPU in full capacity. You keep increasing the batch size until the machine throws an error.\n"
   ]
  },
  {
   "cell_type": "code",
   "execution_count": 3,
   "metadata": {},
   "outputs": [],
   "source": [
    "train_doc = np.random.permutation(\n",
    "    open(\n",
    "        \"/home/ron/Documents/Learning/Upgrad/Neural_Network_Project/Project_data/train.csv\"\n",
    "    ).readlines()\n",
    ")\n",
    "val_doc = np.random.permutation(\n",
    "    open(\n",
    "        \"/home/ron/Documents/Learning/Upgrad/Neural_Network_Project/Project_data/val.csv\"\n",
    "    ).readlines()\n",
    ")\n",
    "batch_size = 20  # experiment with the batch size"
   ]
  },
  {
   "cell_type": "markdown",
   "metadata": {},
   "source": [
    "## Generator\n",
    "\n",
    "This is one of the most important part of the code. The overall structure of the generator has been given. In the generator, you are going to preprocess the images as you have images of 2 different dimensions as well as create a batch of video frames. You have to experiment with `img_idx`, `y`,`z` and normalization such that you get high accuracy.\n"
   ]
  },
  {
   "cell_type": "code",
   "execution_count": 4,
   "metadata": {},
   "outputs": [],
   "source": [
    "def generator(source_path, folder_list, batch_size):\n",
    "    print(\"Source path = \", source_path, \"; batch size =\", batch_size)\n",
    "    img_idx = [\n",
    "        10,\n",
    "        11,\n",
    "        12,\n",
    "        13,\n",
    "        14,\n",
    "        15,\n",
    "        16,\n",
    "        17,\n",
    "        18,\n",
    "        19,\n",
    "        20,\n",
    "    ]  # create a list of image numbers you want to use for a particular video\n",
    "    while True:\n",
    "        t = np.random.permutation(folder_list)\n",
    "        num_batches = len(folder_list) // batch_size  # calculate the number of batches\n",
    "        for batch in range(num_batches):  # we iterate over the number of batches\n",
    "            batch_data = np.zeros(\n",
    "                (batch_size, len(img_idx), 160, 120, 3)\n",
    "            )  # x is the number of images you use for each video, (y,z) is the final size of the input images and 3 is the number of channels RGB\n",
    "            batch_labels = np.zeros(\n",
    "                (batch_size, 5)\n",
    "            )  # batch_labels is the one hot representation of the output\n",
    "            for folder in range(batch_size):  # iterate over the batch_size\n",
    "                imgs = os.listdir(\n",
    "                    source_path + \"/\" + t[folder + (batch * batch_size)].split(\";\")[0]\n",
    "                )  # read all the images in the folder\n",
    "                for idx, item in enumerate(\n",
    "                    img_idx\n",
    "                ):  #  Iterate iver the frames/images of a folder to read them in\n",
    "                    image = imread(\n",
    "                        source_path\n",
    "                        + \"/\"\n",
    "                        + t[folder + (batch * batch_size)].strip().split(\";\")[0]\n",
    "                        + \"/\"\n",
    "                        + imgs[item]\n",
    "                    ).astype(np.float32)\n",
    "\n",
    "                    # crop the images and resize them. Note that the images are of 2 different shape\n",
    "                    # and the conv3D will throw error if the inputs in a batch have different shapes\n",
    "                    resized_image = resize(image, (160, 120))\n",
    "                    normalized_image = resized_image / 255.0\n",
    "\n",
    "                    batch_data[folder, idx, :, :, 0] = normalized_image[:, :, 0]\n",
    "                    batch_data[folder, idx, :, :, 1] = normalized_image[:, :, 1]\n",
    "                    batch_data[folder, idx, :, :, 2] = normalized_image[:, :, 2]\n",
    "\n",
    "                batch_labels[\n",
    "                    folder, int(t[folder + (batch * batch_size)].strip().split(\";\")[2])\n",
    "                ] = 1\n",
    "            yield batch_data, batch_labels  # you yield the batch_data and the batch_labels, remember what does yield do\n",
    "\n",
    "        # write the code for the remaining data points which are left after full batches\n",
    "        if len(folder_list) % batch_size != 0:\n",
    "            remaining_batch_size = len(folder_list) % batch_size\n",
    "            batch_data = np.zeros((remaining_batch_size, len(img_idx), 160, 120, 3))\n",
    "            batch_labels = np.zeros((remaining_batch_size, 5))\n",
    "            for folder in range(remaining_batch_size):\n",
    "                imgs = os.listdir(\n",
    "                    source_path\n",
    "                    + \"/\"\n",
    "                    + t[folder + (num_batches * batch_size)].split(\";\")[0]\n",
    "                )\n",
    "                for idx, item in enumerate(img_idx):\n",
    "                    image = imread(\n",
    "                        source_path\n",
    "                        + \"/\"\n",
    "                        + t[folder + (num_batches * batch_size)].strip().split(\";\")[0]\n",
    "                        + \"/\"\n",
    "                        + imgs[item]\n",
    "                    ).astype(np.float32)\n",
    "                    resized_image = resize(image, (160, 120))\n",
    "                    normalized_image = resized_image / 255.0\n",
    "\n",
    "                    batch_data[folder, idx, :, :, 0] = normalized_image[:, :, 0]\n",
    "                    batch_data[folder, idx, :, :, 1] = normalized_image[:, :, 1]\n",
    "                    batch_data[folder, idx, :, :, 2] = normalized_image[:, :, 2]\n",
    "\n",
    "                batch_labels[\n",
    "                    folder,\n",
    "                    int(t[folder + (num_batches * batch_size)].strip().split(\";\")[2]),\n",
    "                ] = 1\n",
    "            yield batch_data, batch_labels"
   ]
  },
  {
   "cell_type": "markdown",
   "metadata": {},
   "source": [
    "Note here that a video is represented above in the generator as (number of images, height, width, number of channels). Take this into consideration while creating the model architecture.\n"
   ]
  },
  {
   "cell_type": "code",
   "execution_count": 5,
   "metadata": {},
   "outputs": [
    {
     "name": "stdout",
     "output_type": "stream",
     "text": [
      "# training sequences = 663\n",
      "# validation sequences = 100\n",
      "# epochs = 10\n"
     ]
    }
   ],
   "source": [
    "curr_dt_time = datetime.datetime.now()\n",
    "train_path = (\n",
    "    \"/home/ron/Documents/Learning/Upgrad/Neural_Network_Project/Project_data/train\"\n",
    ")\n",
    "val_path = \"/home/ron/Documents/Learning/Upgrad/Neural_Network_Project/Project_data/val\"\n",
    "num_train_sequences = len(train_doc)\n",
    "print(\"# training sequences =\", num_train_sequences)\n",
    "num_val_sequences = len(val_doc)\n",
    "print(\"# validation sequences =\", num_val_sequences)\n",
    "num_epochs = 10  # choose the number of epochs\n",
    "print(\"# epochs =\", num_epochs)"
   ]
  },
  {
   "cell_type": "markdown",
   "metadata": {},
   "source": [
    "## Model\n",
    "\n",
    "Here you make the model using different functionalities that Keras provides. Remember to use `Conv3D` and `MaxPooling3D` and not `Conv2D` and `Maxpooling2D` for a 3D convolution model. You would want to use `TimeDistributed` while building a Conv2D + RNN model. Also remember that the last layer is the softmax. Design the network in such a way that the model is able to give good accuracy on the least number of parameters so that it can fit in the memory of the webcam.\n"
   ]
  },
  {
   "cell_type": "code",
   "execution_count": 6,
   "metadata": {},
   "outputs": [
    {
     "name": "stderr",
     "output_type": "stream",
     "text": [
      "2024-02-27 21:36:44.439288: I tensorflow/core/common_runtime/process_util.cc:146] Creating new thread pool with default inter op setting: 2. Tune using inter_op_parallelism_threads for best performance.\n"
     ]
    }
   ],
   "source": [
    "from keras.models import Sequential, Model\n",
    "from keras.layers import (\n",
    "    Dense,\n",
    "    GRU,\n",
    "    Flatten,\n",
    "    TimeDistributed,\n",
    "    Flatten,\n",
    "    BatchNormalization,\n",
    "    Activation,\n",
    ")\n",
    "from keras.layers.convolutional import Conv3D, MaxPooling3D\n",
    "from keras.callbacks import ModelCheckpoint, ReduceLROnPlateau\n",
    "from keras import optimizers\n",
    "\n",
    "\n",
    "# write your model here\n",
    "def create_model(input_shape, num_classes):\n",
    "    model = Sequential()\n",
    "    model.add(\n",
    "        Conv3D(\n",
    "            16, (3, 3, 3), padding=\"same\", activation=\"relu\", input_shape=input_shape\n",
    "        )\n",
    "    )\n",
    "    model.add(MaxPooling3D(pool_size=(2, 2, 2), padding=\"same\"))\n",
    "    model.add(Conv3D(32, (3, 3, 3), padding=\"same\", activation=\"relu\"))\n",
    "    model.add(MaxPooling3D(pool_size=(2, 2, 2), padding=\"same\"))\n",
    "    model.add(Conv3D(64, (3, 3, 3), padding=\"same\", activation=\"relu\"))\n",
    "    model.add(MaxPooling3D(pool_size=(2, 2, 2), padding=\"same\"))\n",
    "    model.add(Flatten())\n",
    "    model.add(Dense(128, activation=\"relu\"))\n",
    "    model.add(Dense(num_classes, activation=\"softmax\"))\n",
    "    return model\n",
    "\n",
    "\n",
    "# Assuming input shape and number of classes\n",
    "input_shape = (11, 160, 120, 3)\n",
    "num_classes = 5  # Number of gesture classes\n",
    "\n",
    "# Create the model\n",
    "model = create_model(input_shape, num_classes)"
   ]
  },
  {
   "cell_type": "markdown",
   "metadata": {},
   "source": [
    "Now that you have written the model, the next step is to `compile` the model. When you print the `summary` of the model, you'll see the total number of parameters you have to train.\n"
   ]
  },
  {
   "cell_type": "code",
   "execution_count": 7,
   "metadata": {
    "scrolled": true
   },
   "outputs": [
    {
     "name": "stdout",
     "output_type": "stream",
     "text": [
      "Model: \"sequential\"\n",
      "_________________________________________________________________\n",
      " Layer (type)                Output Shape              Param #   \n",
      "=================================================================\n",
      " conv3d (Conv3D)             (None, 11, 160, 120, 16)  1312      \n",
      "                                                                 \n",
      " max_pooling3d (MaxPooling3D  (None, 6, 80, 60, 16)    0         \n",
      " )                                                               \n",
      "                                                                 \n",
      " conv3d_1 (Conv3D)           (None, 6, 80, 60, 32)     13856     \n",
      "                                                                 \n",
      " max_pooling3d_1 (MaxPooling  (None, 3, 40, 30, 32)    0         \n",
      " 3D)                                                             \n",
      "                                                                 \n",
      " conv3d_2 (Conv3D)           (None, 3, 40, 30, 64)     55360     \n",
      "                                                                 \n",
      " max_pooling3d_2 (MaxPooling  (None, 2, 20, 15, 64)    0         \n",
      " 3D)                                                             \n",
      "                                                                 \n",
      " flatten (Flatten)           (None, 38400)             0         \n",
      "                                                                 \n",
      " dense (Dense)               (None, 128)               4915328   \n",
      "                                                                 \n"
     ]
    },
    {
     "name": "stdout",
     "output_type": "stream",
     "text": [
      " dense_1 (Dense)             (None, 5)                 645       \n",
      "                                                                 \n",
      "=================================================================\n",
      "Total params: 4,986,501\n",
      "Trainable params: 4,986,501\n",
      "Non-trainable params: 0\n",
      "_________________________________________________________________\n",
      "None\n"
     ]
    }
   ],
   "source": [
    "optimiser = \"adam\"  # write your optimizer\n",
    "model.compile(\n",
    "    optimizer=optimiser,\n",
    "    loss=\"categorical_crossentropy\",\n",
    "    metrics=[\"categorical_accuracy\"],\n",
    ")\n",
    "print(model.summary())"
   ]
  },
  {
   "cell_type": "markdown",
   "metadata": {},
   "source": [
    "Let us create the `train_generator` and the `val_generator` which will be used in `.fit_generator`.\n"
   ]
  },
  {
   "cell_type": "code",
   "execution_count": 8,
   "metadata": {},
   "outputs": [],
   "source": [
    "train_generator = generator(train_path, train_doc, batch_size)\n",
    "val_generator = generator(val_path, val_doc, batch_size)"
   ]
  },
  {
   "cell_type": "code",
   "execution_count": 9,
   "metadata": {},
   "outputs": [
    {
     "name": "stdout",
     "output_type": "stream",
     "text": [
      "WARNING:tensorflow:`period` argument is deprecated. Please use `save_freq` to specify the frequency in number of batches seen.\n"
     ]
    }
   ],
   "source": [
    "model_name = (\n",
    "    \"model_init\" + \"_\" + str(curr_dt_time).replace(\" \", \"\").replace(\":\", \"_\") + \"/\"\n",
    ")\n",
    "\n",
    "if not os.path.exists(model_name):\n",
    "    os.mkdir(model_name)\n",
    "\n",
    "filepath = (\n",
    "    model_name\n",
    "    + \"model-{epoch:05d}-{loss:.5f}-{categorical_accuracy:.5f}-{val_loss:.5f}-{val_categorical_accuracy:.5f}.h5\"\n",
    ")\n",
    "\n",
    "checkpoint = ModelCheckpoint(\n",
    "    filepath,\n",
    "    monitor=\"val_loss\",\n",
    "    verbose=1,\n",
    "    save_best_only=False,\n",
    "    save_weights_only=False,\n",
    "    mode=\"auto\",\n",
    "    period=1,\n",
    ")\n",
    "\n",
    "LR = ReduceLROnPlateau(\n",
    "    monitor=\"val_loss\", factor=0.2, patience=5, min_lr=0.001\n",
    ")  # write the REducelronplateau code here\n",
    "callbacks_list = [checkpoint, LR]"
   ]
  },
  {
   "cell_type": "markdown",
   "metadata": {},
   "source": [
    "The `steps_per_epoch` and `validation_steps` are used by `fit_generator` to decide the number of next() calls it need to make.\n"
   ]
  },
  {
   "cell_type": "code",
   "execution_count": 10,
   "metadata": {},
   "outputs": [],
   "source": [
    "if (num_train_sequences % batch_size) == 0:\n",
    "    steps_per_epoch = int(num_train_sequences / batch_size)\n",
    "else:\n",
    "    steps_per_epoch = (num_train_sequences // batch_size) + 1\n",
    "\n",
    "if (num_val_sequences % batch_size) == 0:\n",
    "    validation_steps = int(num_val_sequences / batch_size)\n",
    "else:\n",
    "    validation_steps = (num_val_sequences // batch_size) + 1"
   ]
  },
  {
   "cell_type": "markdown",
   "metadata": {},
   "source": [
    "Let us now fit the model. This will start training the model and with the help of the checkpoints, you'll be able to save the model at the end of each epoch.\n"
   ]
  },
  {
   "cell_type": "code",
   "execution_count": 11,
   "metadata": {},
   "outputs": [
    {
     "name": "stderr",
     "output_type": "stream",
     "text": [
      "/tmp/ipykernel_8853/2947116171.py:1: UserWarning: `Model.fit_generator` is deprecated and will be removed in a future version. Please use `Model.fit`, which supports generators.\n",
      "  model.fit_generator(\n",
      "/tmp/ipykernel_8853/1916305792.py:33: DeprecationWarning: Starting with ImageIO v3 the behavior of this function will switch to that of iio.v3.imread. To keep the current behavior (and make this warning disappear) use `import imageio.v2 as imageio` or call `imageio.v2.imread` directly.\n",
      "  image = imread(\n"
     ]
    },
    {
     "name": "stdout",
     "output_type": "stream",
     "text": [
      "Source path =  /home/ron/Documents/Learning/Upgrad/Neural_Network_Project/Project_data/train ; batch size = 20\n",
      "Epoch 1/10\n"
     ]
    },
    {
     "name": "stderr",
     "output_type": "stream",
     "text": [
      "2024-02-27 21:36:52.165382: I tensorflow/core/common_runtime/executor.cc:1197] [/device:CPU:0] (DEBUG INFO) Executor start aborting (this does not indicate an error and you can ignore this message): INVALID_ARGUMENT: You must feed a value for placeholder tensor 'Placeholder/_0' with dtype int32\n",
      "\t [[{{node Placeholder/_0}}]]\n"
     ]
    },
    {
     "name": "stdout",
     "output_type": "stream",
     "text": [
      "32/34 [===========================>..] - ETA: 14s - loss: 1.9306 - categorical_accuracy: 0.2219"
     ]
    },
    {
     "name": "stderr",
     "output_type": "stream",
     "text": [
      "/tmp/ipykernel_8853/1916305792.py:67: DeprecationWarning: Starting with ImageIO v3 the behavior of this function will switch to that of iio.v3.imread. To keep the current behavior (and make this warning disappear) use `import imageio.v2 as imageio` or call `imageio.v2.imread` directly.\n",
      "  image = imread(\n"
     ]
    },
    {
     "name": "stdout",
     "output_type": "stream",
     "text": [
      "34/34 [==============================] - ETA: 0s - loss: 1.9178 - categorical_accuracy: 0.2232Source path =  /home/ron/Documents/Learning/Upgrad/Neural_Network_Project/Project_data/val ; batch size = 20\n"
     ]
    },
    {
     "name": "stderr",
     "output_type": "stream",
     "text": [
      "2024-02-27 21:40:56.665186: I tensorflow/core/common_runtime/executor.cc:1197] [/device:CPU:0] (DEBUG INFO) Executor start aborting (this does not indicate an error and you can ignore this message): INVALID_ARGUMENT: You must feed a value for placeholder tensor 'Placeholder/_0' with dtype int32\n",
      "\t [[{{node Placeholder/_0}}]]\n"
     ]
    },
    {
     "name": "stdout",
     "output_type": "stream",
     "text": [
      "\n",
      "Epoch 1: saving model to model_init_2024-02-2721_36_43.973386/model-00001-1.91782-0.22323-1.51956-0.32000.h5\n",
      "34/34 [==============================] - 264s 8s/step - loss: 1.9178 - categorical_accuracy: 0.2232 - val_loss: 1.5196 - val_categorical_accuracy: 0.3200 - lr: 0.0010\n",
      "Epoch 2/10\n",
      "34/34 [==============================] - ETA: 0s - loss: 1.4442 - categorical_accuracy: 0.3801\n",
      "Epoch 2: saving model to model_init_2024-02-2721_36_43.973386/model-00002-1.44417-0.38009-1.34697-0.40000.h5\n",
      "34/34 [==============================] - 237s 7s/step - loss: 1.4442 - categorical_accuracy: 0.3801 - val_loss: 1.3470 - val_categorical_accuracy: 0.4000 - lr: 0.0010\n",
      "Epoch 3/10\n",
      "34/34 [==============================] - ETA: 0s - loss: 1.2006 - categorical_accuracy: 0.4827\n",
      "Epoch 3: saving model to model_init_2024-02-2721_36_43.973386/model-00003-1.20061-0.48265-1.15971-0.53000.h5\n",
      "34/34 [==============================] - 197s 6s/step - loss: 1.2006 - categorical_accuracy: 0.4827 - val_loss: 1.1597 - val_categorical_accuracy: 0.5300 - lr: 0.0010\n",
      "Epoch 4/10\n",
      "34/34 [==============================] - ETA: 0s - loss: 0.9270 - categorical_accuracy: 0.6395\n",
      "Epoch 4: saving model to model_init_2024-02-2721_36_43.973386/model-00004-0.92699-0.63952-1.10958-0.57000.h5\n",
      "34/34 [==============================] - 178s 5s/step - loss: 0.9270 - categorical_accuracy: 0.6395 - val_loss: 1.1096 - val_categorical_accuracy: 0.5700 - lr: 0.0010\n",
      "Epoch 5/10\n",
      "34/34 [==============================] - ETA: 0s - loss: 0.6590 - categorical_accuracy: 0.7587\n",
      "Epoch 5: saving model to model_init_2024-02-2721_36_43.973386/model-00005-0.65903-0.75867-2.67608-0.32000.h5\n",
      "34/34 [==============================] - 231s 7s/step - loss: 0.6590 - categorical_accuracy: 0.7587 - val_loss: 2.6761 - val_categorical_accuracy: 0.3200 - lr: 0.0010\n",
      "Epoch 6/10\n",
      "34/34 [==============================] - ETA: 0s - loss: 0.5513 - categorical_accuracy: 0.7949\n",
      "Epoch 6: saving model to model_init_2024-02-2721_36_43.973386/model-00006-0.55127-0.79487-0.95997-0.62000.h5\n",
      "34/34 [==============================] - 203s 6s/step - loss: 0.5513 - categorical_accuracy: 0.7949 - val_loss: 0.9600 - val_categorical_accuracy: 0.6200 - lr: 0.0010\n",
      "Epoch 7/10\n",
      "34/34 [==============================] - ETA: 0s - loss: 0.3683 - categorical_accuracy: 0.8703\n",
      "Epoch 7: saving model to model_init_2024-02-2721_36_43.973386/model-00007-0.36828-0.87029-0.93408-0.63000.h5\n",
      "34/34 [==============================] - 181s 5s/step - loss: 0.3683 - categorical_accuracy: 0.8703 - val_loss: 0.9341 - val_categorical_accuracy: 0.6300 - lr: 0.0010\n",
      "Epoch 8/10\n",
      "34/34 [==============================] - ETA: 0s - loss: 0.2441 - categorical_accuracy: 0.9065\n",
      "Epoch 8: saving model to model_init_2024-02-2721_36_43.973386/model-00008-0.24408-0.90649-1.43442-0.67000.h5\n",
      "34/34 [==============================] - 165s 5s/step - loss: 0.2441 - categorical_accuracy: 0.9065 - val_loss: 1.4344 - val_categorical_accuracy: 0.6700 - lr: 0.0010\n",
      "Epoch 9/10\n",
      "34/34 [==============================] - ETA: 0s - loss: 0.1543 - categorical_accuracy: 0.9532\n",
      "Epoch 9: saving model to model_init_2024-02-2721_36_43.973386/model-00009-0.15429-0.95324-1.08539-0.67000.h5\n",
      "34/34 [==============================] - 162s 5s/step - loss: 0.1543 - categorical_accuracy: 0.9532 - val_loss: 1.0854 - val_categorical_accuracy: 0.6700 - lr: 0.0010\n",
      "Epoch 10/10\n",
      "34/34 [==============================] - ETA: 0s - loss: 0.0680 - categorical_accuracy: 0.9804\n",
      "Epoch 10: saving model to model_init_2024-02-2721_36_43.973386/model-00010-0.06799-0.98039-1.15755-0.67000.h5\n",
      "34/34 [==============================] - 190s 6s/step - loss: 0.0680 - categorical_accuracy: 0.9804 - val_loss: 1.1575 - val_categorical_accuracy: 0.6700 - lr: 0.0010\n"
     ]
    },
    {
     "data": {
      "text/plain": [
       "<keras.callbacks.History at 0x779aba188050>"
      ]
     },
     "execution_count": 11,
     "metadata": {},
     "output_type": "execute_result"
    }
   ],
   "source": [
    "model.fit_generator(\n",
    "    train_generator,\n",
    "    steps_per_epoch=steps_per_epoch,\n",
    "    epochs=num_epochs,\n",
    "    verbose=1,\n",
    "    callbacks=callbacks_list,\n",
    "    validation_data=val_generator,\n",
    "    validation_steps=validation_steps,\n",
    "    class_weight=None,\n",
    "    workers=1,\n",
    "    initial_epoch=0,\n",
    ")"
   ]
  },
  {
   "cell_type": "code",
   "execution_count": null,
   "metadata": {},
   "outputs": [],
   "source": []
  }
 ],
 "metadata": {
  "kernelspec": {
   "display_name": "Python 3",
   "language": "python",
   "name": "python3"
  },
  "language_info": {
   "codemirror_mode": {
    "name": "ipython",
    "version": 3
   },
   "file_extension": ".py",
   "mimetype": "text/x-python",
   "name": "python",
   "nbconvert_exporter": "python",
   "pygments_lexer": "ipython3",
   "version": "3.11.5"
  }
 },
 "nbformat": 4,
 "nbformat_minor": 2
}
