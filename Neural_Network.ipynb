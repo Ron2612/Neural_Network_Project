{
 "cells": [
  {
   "cell_type": "markdown",
   "metadata": {},
   "source": [
    "# Gesture Recognition\n",
    "\n",
    "In this group project, you are going to build a 3D Conv model that will be able to predict the 5 gestures correctly. Please import the following libraries to get started.\n"
   ]
  },
  {
   "cell_type": "code",
   "execution_count": 1,
   "metadata": {},
   "outputs": [],
   "source": [
    "import numpy as np\n",
    "import os\n",
    "from imageio import imread\n",
    "from skimage.transform import resize\n",
    "import datetime\n",
    "import os"
   ]
  },
  {
   "cell_type": "markdown",
   "metadata": {},
   "source": [
    "We set the random seed so that the results don't vary drastically.\n"
   ]
  },
  {
   "cell_type": "code",
   "execution_count": 2,
   "metadata": {},
   "outputs": [
    {
     "name": "stderr",
     "output_type": "stream",
     "text": [
      "2024-03-02 08:16:22.441238: E external/local_xla/xla/stream_executor/cuda/cuda_dnn.cc:9261] Unable to register cuDNN factory: Attempting to register factory for plugin cuDNN when one has already been registered\n",
      "2024-03-02 08:16:22.441273: E external/local_xla/xla/stream_executor/cuda/cuda_fft.cc:607] Unable to register cuFFT factory: Attempting to register factory for plugin cuFFT when one has already been registered\n",
      "2024-03-02 08:16:22.442470: E external/local_xla/xla/stream_executor/cuda/cuda_blas.cc:1515] Unable to register cuBLAS factory: Attempting to register factory for plugin cuBLAS when one has already been registered\n",
      "2024-03-02 08:16:22.448688: I tensorflow/core/platform/cpu_feature_guard.cc:182] This TensorFlow binary is optimized to use available CPU instructions in performance-critical operations.\n",
      "To enable the following instructions: AVX2 FMA, in other operations, rebuild TensorFlow with the appropriate compiler flags.\n",
      "2024-03-02 08:16:25.072188: W tensorflow/compiler/tf2tensorrt/utils/py_utils.cc:38] TF-TRT Warning: Could not find TensorRT\n"
     ]
    }
   ],
   "source": [
    "np.random.seed(2612)\n",
    "import random as rn\n",
    "\n",
    "rn.seed(2612)\n",
    "from keras import backend as K\n",
    "import tensorflow as tf\n",
    "\n",
    "tf.random.set_seed(2612)"
   ]
  },
  {
   "cell_type": "code",
   "execution_count": 3,
   "metadata": {},
   "outputs": [
    {
     "name": "stderr",
     "output_type": "stream",
     "text": [
      "2024-03-02 08:16:27.843257: I external/local_xla/xla/stream_executor/cuda/cuda_executor.cc:901] successful NUMA node read from SysFS had negative value (-1), but there must be at least one NUMA node, so returning NUMA node zero. See more at https://github.com/torvalds/linux/blob/v6.0/Documentation/ABI/testing/sysfs-bus-pci#L344-L355\n",
      "2024-03-02 08:16:27.924372: I external/local_xla/xla/stream_executor/cuda/cuda_executor.cc:901] successful NUMA node read from SysFS had negative value (-1), but there must be at least one NUMA node, so returning NUMA node zero. See more at https://github.com/torvalds/linux/blob/v6.0/Documentation/ABI/testing/sysfs-bus-pci#L344-L355\n",
      "2024-03-02 08:16:27.925065: I external/local_xla/xla/stream_executor/cuda/cuda_executor.cc:901] successful NUMA node read from SysFS had negative value (-1), but there must be at least one NUMA node, so returning NUMA node zero. See more at https://github.com/torvalds/linux/blob/v6.0/Documentation/ABI/testing/sysfs-bus-pci#L344-L355\n"
     ]
    },
    {
     "data": {
      "text/plain": [
       "[PhysicalDevice(name='/physical_device:GPU:0', device_type='GPU')]"
      ]
     },
     "execution_count": 3,
     "metadata": {},
     "output_type": "execute_result"
    }
   ],
   "source": [
    "tf.config.list_physical_devices(\"GPU\")"
   ]
  },
  {
   "cell_type": "markdown",
   "metadata": {},
   "source": [
    "In this block, you read the folder names for training and validation. You also set the `batch_size` here. Note that you set the batch size in such a way that you are able to use the GPU in full capacity. You keep increasing the batch size until the machine throws an error.\n"
   ]
  },
  {
   "cell_type": "code",
   "execution_count": 4,
   "metadata": {},
   "outputs": [],
   "source": [
    "train_doc = np.random.permutation(\n",
    "    open(\n",
    "        \"/home/ron/Documents/Learning/Upgrad/Neural_Network_Project/Project_data/train.csv\"\n",
    "    ).readlines()\n",
    ")\n",
    "val_doc = np.random.permutation(\n",
    "    open(\n",
    "        \"/home/ron/Documents/Learning/Upgrad/Neural_Network_Project/Project_data/val.csv\"\n",
    "    ).readlines()\n",
    ")\n",
    "batch_size = 45  # experiment with the batch size"
   ]
  },
  {
   "cell_type": "markdown",
   "metadata": {},
   "source": [
    "## Generator\n",
    "\n",
    "This is one of the most important part of the code. The overall structure of the generator has been given. In the generator, you are going to preprocess the images as you have images of 2 different dimensions as well as create a batch of video frames. You have to experiment with `img_idx`, `y`,`z` and normalization such that you get high accuracy.\n"
   ]
  },
  {
   "cell_type": "code",
   "execution_count": 5,
   "metadata": {},
   "outputs": [],
   "source": [
    "def generator(source_path, folder_list, batch_size, y, z):\n",
    "    print(\"Source path = \", source_path, \"; batch size =\", batch_size)\n",
    "    img_idx = [\n",
    "        6,\n",
    "        8,\n",
    "        10,\n",
    "        12,\n",
    "        14,\n",
    "        16,\n",
    "        18,\n",
    "        20,\n",
    "        22,\n",
    "        24,\n",
    "    ]  # create a list of image numbers you want to use for a particular video\n",
    "    while True:\n",
    "        t = np.random.permutation(folder_list)\n",
    "        num_batches = len(folder_list) // batch_size  # calculate the number of batches\n",
    "        for batch in range(num_batches):  # we iterate over the number of batches\n",
    "            batch_data = np.zeros(\n",
    "                (batch_size, len(img_idx), y, z, 3)\n",
    "            )  # x is the number of images you use for each video, (y,z) is the final size of the input images and 3 is the number of channels RGB\n",
    "            batch_labels = np.zeros(\n",
    "                (batch_size, 5)\n",
    "            )  # batch_labels is the one hot representation of the output\n",
    "            for folder in range(batch_size):  # iterate over the batch_size\n",
    "                imgs = os.listdir(\n",
    "                    source_path + \"/\" + t[folder + (batch * batch_size)].split(\";\")[0]\n",
    "                )  # read all the images in the folder\n",
    "                for idx, item in enumerate(\n",
    "                    img_idx\n",
    "                ):  #  Iterate iver the frames/images of a folder to read them in\n",
    "                    image = imread(\n",
    "                        source_path\n",
    "                        + \"/\"\n",
    "                        + t[folder + (batch * batch_size)].strip().split(\";\")[0]\n",
    "                        + \"/\"\n",
    "                        + imgs[item]\n",
    "                    ).astype(np.float32)\n",
    "\n",
    "                    # crop the images and resize them. Note that the images are of 2 different shape\n",
    "                    # and the conv3D will throw error if the inputs in a batch have different shapes\n",
    "                    resized_image = resize(image, (y, z))\n",
    "                    normalized_image = resized_image / 255.0\n",
    "\n",
    "                    batch_data[folder, idx, :, :, 0] = normalized_image[:, :, 0]\n",
    "                    batch_data[folder, idx, :, :, 1] = normalized_image[:, :, 1]\n",
    "                    batch_data[folder, idx, :, :, 2] = normalized_image[:, :, 2]\n",
    "\n",
    "                batch_labels[\n",
    "                    folder, int(t[folder + (batch * batch_size)].strip().split(\";\")[2])\n",
    "                ] = 1\n",
    "            yield batch_data, batch_labels  # you yield the batch_data and the batch_labels, remember what does yield do\n",
    "\n",
    "        # write the code for the remaining data points which are left after full batches\n",
    "        if len(folder_list) % batch_size != 0:\n",
    "            remaining_batch_size = len(folder_list) % batch_size\n",
    "            batch_data = np.zeros((remaining_batch_size, len(img_idx), y, z, 3))\n",
    "            batch_labels = np.zeros((remaining_batch_size, 5))\n",
    "            for folder in range(remaining_batch_size):\n",
    "                imgs = os.listdir(\n",
    "                    source_path\n",
    "                    + \"/\"\n",
    "                    + t[folder + (num_batches * batch_size)].split(\";\")[0]\n",
    "                )\n",
    "                for idx, item in enumerate(img_idx):\n",
    "                    image = imread(\n",
    "                        source_path\n",
    "                        + \"/\"\n",
    "                        + t[folder + (num_batches * batch_size)].strip().split(\";\")[0]\n",
    "                        + \"/\"\n",
    "                        + imgs[item]\n",
    "                    ).astype(np.float32)\n",
    "                    resized_image = resize(image, (y, z))\n",
    "                    normalized_image = resized_image / 255.0\n",
    "\n",
    "                    batch_data[folder, idx, :, :, 0] = normalized_image[:, :, 0]\n",
    "                    batch_data[folder, idx, :, :, 1] = normalized_image[:, :, 1]\n",
    "                    batch_data[folder, idx, :, :, 2] = normalized_image[:, :, 2]\n",
    "\n",
    "                batch_labels[\n",
    "                    folder,\n",
    "                    int(t[folder + (num_batches * batch_size)].strip().split(\";\")[2]),\n",
    "                ] = 1\n",
    "            yield batch_data, batch_labels"
   ]
  },
  {
   "cell_type": "markdown",
   "metadata": {},
   "source": [
    "Note here that a video is represented above in the generator as (number of images, height, width, number of channels). Take this into consideration while creating the model architecture.\n"
   ]
  },
  {
   "cell_type": "code",
   "execution_count": 6,
   "metadata": {},
   "outputs": [
    {
     "name": "stdout",
     "output_type": "stream",
     "text": [
      "# training sequences = 663\n",
      "# validation sequences = 100\n",
      "# epochs = 15\n"
     ]
    }
   ],
   "source": [
    "curr_dt_time = datetime.datetime.now()\n",
    "train_path = (\n",
    "    \"/home/ron/Documents/Learning/Upgrad/Neural_Network_Project/Project_data/train\"\n",
    ")\n",
    "val_path = \"/home/ron/Documents/Learning/Upgrad/Neural_Network_Project/Project_data/val\"\n",
    "num_train_sequences = len(train_doc)\n",
    "print(\"# training sequences =\", num_train_sequences)\n",
    "num_val_sequences = len(val_doc)\n",
    "print(\"# validation sequences =\", num_val_sequences)\n",
    "num_epochs = 15  # choose the number of epochs\n",
    "print(\"# epochs =\", num_epochs)"
   ]
  },
  {
   "cell_type": "markdown",
   "metadata": {},
   "source": [
    "## Model\n",
    "\n",
    "Here you make the model using different functionalities that Keras provides. Remember to use `Conv3D` and `MaxPooling3D` and not `Conv2D` and `Maxpooling2D` for a 3D convolution model. You would want to use `TimeDistributed` while building a Conv2D + RNN model. Also remember that the last layer is the softmax. Design the network in such a way that the model is able to give good accuracy on the least number of parameters so that it can fit in the memory of the webcam.\n"
   ]
  },
  {
   "cell_type": "code",
   "execution_count": 7,
   "metadata": {},
   "outputs": [
    {
     "name": "stderr",
     "output_type": "stream",
     "text": [
      "2024-03-02 08:16:29.418078: I external/local_xla/xla/stream_executor/cuda/cuda_executor.cc:901] successful NUMA node read from SysFS had negative value (-1), but there must be at least one NUMA node, so returning NUMA node zero. See more at https://github.com/torvalds/linux/blob/v6.0/Documentation/ABI/testing/sysfs-bus-pci#L344-L355\n",
      "2024-03-02 08:16:29.418852: I external/local_xla/xla/stream_executor/cuda/cuda_executor.cc:901] successful NUMA node read from SysFS had negative value (-1), but there must be at least one NUMA node, so returning NUMA node zero. See more at https://github.com/torvalds/linux/blob/v6.0/Documentation/ABI/testing/sysfs-bus-pci#L344-L355\n",
      "2024-03-02 08:16:29.419436: I external/local_xla/xla/stream_executor/cuda/cuda_executor.cc:901] successful NUMA node read from SysFS had negative value (-1), but there must be at least one NUMA node, so returning NUMA node zero. See more at https://github.com/torvalds/linux/blob/v6.0/Documentation/ABI/testing/sysfs-bus-pci#L344-L355\n",
      "2024-03-02 08:16:29.518193: I external/local_xla/xla/stream_executor/cuda/cuda_executor.cc:901] successful NUMA node read from SysFS had negative value (-1), but there must be at least one NUMA node, so returning NUMA node zero. See more at https://github.com/torvalds/linux/blob/v6.0/Documentation/ABI/testing/sysfs-bus-pci#L344-L355\n",
      "2024-03-02 08:16:29.518411: I external/local_xla/xla/stream_executor/cuda/cuda_executor.cc:901] successful NUMA node read from SysFS had negative value (-1), but there must be at least one NUMA node, so returning NUMA node zero. See more at https://github.com/torvalds/linux/blob/v6.0/Documentation/ABI/testing/sysfs-bus-pci#L344-L355\n",
      "2024-03-02 08:16:29.518547: I external/local_xla/xla/stream_executor/cuda/cuda_executor.cc:901] successful NUMA node read from SysFS had negative value (-1), but there must be at least one NUMA node, so returning NUMA node zero. See more at https://github.com/torvalds/linux/blob/v6.0/Documentation/ABI/testing/sysfs-bus-pci#L344-L355\n",
      "2024-03-02 08:16:29.518648: I tensorflow/core/common_runtime/gpu/gpu_device.cc:1929] Created device /job:localhost/replica:0/task:0/device:GPU:0 with 3485 MB memory:  -> device: 0, name: NVIDIA GeForce GTX 1050 Ti, pci bus id: 0000:01:00.0, compute capability: 6.1\n"
     ]
    }
   ],
   "source": [
    "from keras.models import Sequential, Model\n",
    "from keras.layers import (\n",
    "    Dense,\n",
    "    GRU,\n",
    "    Flatten,\n",
    "    TimeDistributed,\n",
    "    Flatten,\n",
    "    BatchNormalization,\n",
    "    Dropout,\n",
    "    Activation,\n",
    ")\n",
    "from keras.layers import Conv3D, MaxPooling3D\n",
    "from keras.callbacks import ModelCheckpoint, ReduceLROnPlateau\n",
    "from keras import optimizers\n",
    "\n",
    "\n",
    "# write your model here\n",
    "def create_model(input_shape, num_classes):\n",
    "    model = Sequential()\n",
    "    model.add(\n",
    "        Conv3D(64, (3, 3, 3), padding=\"same\", activation=\"elu\", input_shape=input_shape)\n",
    "    )\n",
    "    model.add(MaxPooling3D(pool_size=(2, 2, 2), padding=\"same\"))\n",
    "\n",
    "    model.add(Conv3D(128, (3, 3, 3), padding=\"same\", activation=\"elu\"))\n",
    "    model.add(MaxPooling3D(pool_size=(2, 2, 2), padding=\"same\"))\n",
    "\n",
    "    model.add(Conv3D(256, (3, 3, 3), padding=\"same\", activation=\"elu\"))\n",
    "    model.add(MaxPooling3D(pool_size=(2, 2, 2), padding=\"same\"))\n",
    "\n",
    "    model.add(Flatten())\n",
    "    model.add(Dense(256, activation=\"elu\"))\n",
    "    model.add(Dropout(0.5))\n",
    "    model.add(Dense(128, activation=\"elu\"))\n",
    "    model.add(Dropout(0.5))\n",
    "    model.add(Dense(num_classes, activation=\"softmax\"))\n",
    "\n",
    "    return model\n",
    "\n",
    "\n",
    "y = 45\n",
    "z = 45\n",
    "# Assuming input shape and number of classes\n",
    "input_shape = (10, y, z, 3)\n",
    "num_classes = 5  # Number of gesture classes\n",
    "\n",
    "# Create the model\n",
    "model = create_model(input_shape, num_classes)"
   ]
  },
  {
   "cell_type": "markdown",
   "metadata": {},
   "source": [
    "Now that you have written the model, the next step is to `compile` the model. When you print the `summary` of the model, you'll see the total number of parameters you have to train.\n"
   ]
  },
  {
   "cell_type": "code",
   "execution_count": 8,
   "metadata": {
    "scrolled": true
   },
   "outputs": [
    {
     "name": "stdout",
     "output_type": "stream",
     "text": [
      "Model: \"sequential\"\n",
      "_________________________________________________________________\n",
      " Layer (type)                Output Shape              Param #   \n",
      "=================================================================\n",
      " conv3d (Conv3D)             (None, 10, 45, 45, 64)    5248      \n",
      "                                                                 \n",
      " max_pooling3d (MaxPooling3  (None, 5, 23, 23, 64)     0         \n",
      " D)                                                              \n",
      "                                                                 \n",
      " conv3d_1 (Conv3D)           (None, 5, 23, 23, 128)    221312    \n",
      "                                                                 \n",
      " max_pooling3d_1 (MaxPoolin  (None, 3, 12, 12, 128)    0         \n",
      " g3D)                                                            \n",
      "                                                                 \n",
      " conv3d_2 (Conv3D)           (None, 3, 12, 12, 256)    884992    \n",
      "                                                                 \n",
      " max_pooling3d_2 (MaxPoolin  (None, 2, 6, 6, 256)      0         \n",
      " g3D)                                                            \n",
      "                                                                 \n",
      " flatten (Flatten)           (None, 18432)             0         \n",
      "                                                                 \n",
      " dense (Dense)               (None, 256)               4718848   \n",
      "                                                                 \n",
      " dropout (Dropout)           (None, 256)               0         \n",
      "                                                                 \n",
      " dense_1 (Dense)             (None, 128)               32896     \n",
      "                                                                 \n",
      " dropout_1 (Dropout)         (None, 128)               0         \n",
      "                                                                 \n",
      " dense_2 (Dense)             (None, 5)                 645       \n",
      "                                                                 \n",
      "=================================================================\n",
      "Total params: 5863941 (22.37 MB)\n",
      "Trainable params: 5863941 (22.37 MB)\n",
      "Non-trainable params: 0 (0.00 Byte)\n",
      "_________________________________________________________________\n",
      "None\n"
     ]
    }
   ],
   "source": [
    "optimiser = \"adam\"  # write your optimizer\n",
    "model.compile(\n",
    "    optimizer=optimiser,\n",
    "    loss=\"categorical_crossentropy\",\n",
    "    metrics=[\"categorical_accuracy\"],\n",
    ")\n",
    "print(model.summary())"
   ]
  },
  {
   "cell_type": "markdown",
   "metadata": {},
   "source": [
    "Let us create the `train_generator` and the `val_generator` which will be used in `.fit_generator`.\n"
   ]
  },
  {
   "cell_type": "code",
   "execution_count": 9,
   "metadata": {},
   "outputs": [],
   "source": [
    "train_generator = generator(train_path, train_doc, batch_size, y, z)\n",
    "val_generator = generator(val_path, val_doc, batch_size, y, z)"
   ]
  },
  {
   "cell_type": "code",
   "execution_count": 10,
   "metadata": {},
   "outputs": [
    {
     "name": "stdout",
     "output_type": "stream",
     "text": [
      "WARNING:tensorflow:`period` argument is deprecated. Please use `save_freq` to specify the frequency in number of batches seen.\n"
     ]
    }
   ],
   "source": [
    "model_name = (\n",
    "    \"model_init\" + \"_\" + str(curr_dt_time).replace(\" \", \"\").replace(\":\", \"_\") + \"/\"\n",
    ")\n",
    "\n",
    "if not os.path.exists(model_name):\n",
    "    os.mkdir(model_name)\n",
    "\n",
    "filepath = (\n",
    "    model_name\n",
    "    + \"model-{epoch:05d}-{loss:.5f}-{categorical_accuracy:.5f}-{val_loss:.5f}-{val_categorical_accuracy:.5f}.h5\"\n",
    ")\n",
    "\n",
    "checkpoint = ModelCheckpoint(\n",
    "    filepath,\n",
    "    monitor=\"val_loss\",\n",
    "    verbose=1,\n",
    "    save_best_only=False,\n",
    "    save_weights_only=False,\n",
    "    mode=\"auto\",\n",
    "    period=1,\n",
    ")\n",
    "\n",
    "LR = ReduceLROnPlateau(\n",
    "    monitor=\"val_loss\", factor=0.2, patience=5, min_lr=0.001\n",
    ")  # write the REducelronplateau code here\n",
    "callbacks_list = [checkpoint, LR]"
   ]
  },
  {
   "cell_type": "markdown",
   "metadata": {},
   "source": [
    "The `steps_per_epoch` and `validation_steps` are used by `fit_generator` to decide the number of next() calls it need to make.\n"
   ]
  },
  {
   "cell_type": "code",
   "execution_count": 11,
   "metadata": {},
   "outputs": [
    {
     "name": "stdout",
     "output_type": "stream",
     "text": [
      "15\n",
      "3\n"
     ]
    }
   ],
   "source": [
    "if (num_train_sequences % batch_size) == 0:\n",
    "    steps_per_epoch = int(num_train_sequences / batch_size)\n",
    "else:\n",
    "    steps_per_epoch = (num_train_sequences // batch_size) + 1\n",
    "\n",
    "if (num_val_sequences % batch_size) == 0:\n",
    "    validation_steps = int(num_val_sequences / batch_size)\n",
    "else:\n",
    "    validation_steps = (num_val_sequences // batch_size) + 1\n",
    "\n",
    "print(steps_per_epoch)\n",
    "print(validation_steps)"
   ]
  },
  {
   "cell_type": "markdown",
   "metadata": {},
   "source": [
    "Let us now fit the model. This will start training the model and with the help of the checkpoints, you'll be able to save the model at the end of each epoch.\n"
   ]
  },
  {
   "cell_type": "code",
   "execution_count": 12,
   "metadata": {},
   "outputs": [
    {
     "name": "stdout",
     "output_type": "stream",
     "text": [
      "Source path =  /home/ron/Documents/Learning/Upgrad/Neural_Network_Project/Project_data/train ; batch size = 45\n"
     ]
    },
    {
     "name": "stderr",
     "output_type": "stream",
     "text": [
      "/tmp/ipykernel_22860/2132049712.py:32: DeprecationWarning: Starting with ImageIO v3 the behavior of this function will switch to that of iio.v3.imread. To keep the current behavior (and make this warning disappear) use `import imageio.v2 as imageio` or call `imageio.v2.imread` directly.\n",
      "  image = imread(\n"
     ]
    },
    {
     "name": "stdout",
     "output_type": "stream",
     "text": [
      "Epoch 1/15\n"
     ]
    },
    {
     "name": "stderr",
     "output_type": "stream",
     "text": [
      "2024-03-02 08:16:35.462660: I external/local_xla/xla/stream_executor/cuda/cuda_dnn.cc:454] Loaded cuDNN version 8904\n",
      "2024-03-02 08:16:35.586119: I external/local_tsl/tsl/platform/default/subprocess.cc:304] Start cannot spawn child process: No such file or directory\n",
      "2024-03-02 08:16:36.376621: I external/local_tsl/tsl/platform/default/subprocess.cc:304] Start cannot spawn child process: No such file or directory\n",
      "2024-03-02 08:16:38.533828: I external/local_xla/xla/service/service.cc:168] XLA service 0x7fcb74b19060 initialized for platform CUDA (this does not guarantee that XLA will be used). Devices:\n",
      "2024-03-02 08:16:38.533860: I external/local_xla/xla/service/service.cc:176]   StreamExecutor device (0): NVIDIA GeForce GTX 1050 Ti, Compute Capability 6.1\n",
      "2024-03-02 08:16:38.544871: I tensorflow/compiler/mlir/tensorflow/utils/dump_mlir_util.cc:269] disabling MLIR crash reproducer, set env var `MLIR_CRASH_REPRODUCER_DIRECTORY` to enable.\n",
      "WARNING: All log messages before absl::InitializeLog() is called are written to STDERR\n",
      "I0000 00:00:1709347598.667012   22916 device_compiler.h:186] Compiled cluster using XLA!  This line is logged at most once for the lifetime of the process.\n"
     ]
    },
    {
     "name": "stdout",
     "output_type": "stream",
     "text": [
      "13/15 [=========================>....] - ETA: 5s - loss: 4.7325 - categorical_accuracy: 0.2068"
     ]
    },
    {
     "name": "stderr",
     "output_type": "stream",
     "text": [
      "/tmp/ipykernel_22860/2132049712.py:66: DeprecationWarning: Starting with ImageIO v3 the behavior of this function will switch to that of iio.v3.imread. To keep the current behavior (and make this warning disappear) use `import imageio.v2 as imageio` or call `imageio.v2.imread` directly.\n",
      "  image = imread(\n"
     ]
    },
    {
     "name": "stdout",
     "output_type": "stream",
     "text": [
      "15/15 [==============================] - ETA: 0s - loss: 4.4553 - categorical_accuracy: 0.2157Source path =  /home/ron/Documents/Learning/Upgrad/Neural_Network_Project/Project_data/val ; batch size = 45\n",
      "\n",
      "Epoch 1: saving model to model_init_2024-03-0208_16_29.142857/model-00001-4.45532-0.21569-2.28921-0.22000.h5\n"
     ]
    },
    {
     "name": "stderr",
     "output_type": "stream",
     "text": [
      "/home/ron/.local/lib/python3.11/site-packages/keras/src/engine/training.py:3103: UserWarning: You are saving your model as an HDF5 file via `model.save()`. This file format is considered legacy. We recommend using instead the native Keras format, e.g. `model.save('my_model.keras')`.\n",
      "  saving_api.save_model(\n"
     ]
    },
    {
     "name": "stdout",
     "output_type": "stream",
     "text": [
      "15/15 [==============================] - 64s 4s/step - loss: 4.4553 - categorical_accuracy: 0.2157 - val_loss: 2.2892 - val_categorical_accuracy: 0.2200 - lr: 0.0010\n",
      "Epoch 2/15\n",
      "15/15 [==============================] - ETA: 0s - loss: 2.3229 - categorical_accuracy: 0.2112\n",
      "Epoch 2: saving model to model_init_2024-03-0208_16_29.142857/model-00002-2.32286-0.21116-1.48274-0.42000.h5\n",
      "15/15 [==============================] - 48s 3s/step - loss: 2.3229 - categorical_accuracy: 0.2112 - val_loss: 1.4827 - val_categorical_accuracy: 0.4200 - lr: 0.0010\n",
      "Epoch 3/15\n",
      "15/15 [==============================] - ETA: 0s - loss: 1.6976 - categorical_accuracy: 0.3454\n",
      "Epoch 3: saving model to model_init_2024-03-0208_16_29.142857/model-00003-1.69756-0.34540-1.42610-0.39000.h5\n",
      "15/15 [==============================] - 44s 3s/step - loss: 1.6976 - categorical_accuracy: 0.3454 - val_loss: 1.4261 - val_categorical_accuracy: 0.3900 - lr: 0.0010\n",
      "Epoch 4/15\n",
      "15/15 [==============================] - ETA: 0s - loss: 1.3381 - categorical_accuracy: 0.4404\n",
      "Epoch 4: saving model to model_init_2024-03-0208_16_29.142857/model-00004-1.33807-0.44042-1.03401-0.56000.h5\n",
      "15/15 [==============================] - 53s 4s/step - loss: 1.3381 - categorical_accuracy: 0.4404 - val_loss: 1.0340 - val_categorical_accuracy: 0.5600 - lr: 0.0010\n",
      "Epoch 5/15\n",
      "15/15 [==============================] - ETA: 0s - loss: 1.1455 - categorical_accuracy: 0.5324\n",
      "Epoch 5: saving model to model_init_2024-03-0208_16_29.142857/model-00005-1.14554-0.53243-1.03344-0.55000.h5\n",
      "15/15 [==============================] - 48s 3s/step - loss: 1.1455 - categorical_accuracy: 0.5324 - val_loss: 1.0334 - val_categorical_accuracy: 0.5500 - lr: 0.0010\n",
      "Epoch 6/15\n",
      "15/15 [==============================] - ETA: 0s - loss: 1.0888 - categorical_accuracy: 0.5701\n",
      "Epoch 6: saving model to model_init_2024-03-0208_16_29.142857/model-00006-1.08880-0.57014-0.87879-0.65000.h5\n",
      "15/15 [==============================] - 44s 3s/step - loss: 1.0888 - categorical_accuracy: 0.5701 - val_loss: 0.8788 - val_categorical_accuracy: 0.6500 - lr: 0.0010\n",
      "Epoch 7/15\n",
      "15/15 [==============================] - ETA: 0s - loss: 0.9318 - categorical_accuracy: 0.6471\n",
      "Epoch 7: saving model to model_init_2024-03-0208_16_29.142857/model-00007-0.93178-0.64706-1.01310-0.65000.h5\n",
      "15/15 [==============================] - 50s 4s/step - loss: 0.9318 - categorical_accuracy: 0.6471 - val_loss: 1.0131 - val_categorical_accuracy: 0.6500 - lr: 0.0010\n",
      "Epoch 8/15\n",
      "15/15 [==============================] - ETA: 0s - loss: 0.8535 - categorical_accuracy: 0.6652\n",
      "Epoch 8: saving model to model_init_2024-03-0208_16_29.142857/model-00008-0.85351-0.66516-0.80003-0.64000.h5\n",
      "15/15 [==============================] - 49s 3s/step - loss: 0.8535 - categorical_accuracy: 0.6652 - val_loss: 0.8000 - val_categorical_accuracy: 0.6400 - lr: 0.0010\n",
      "Epoch 9/15\n",
      "15/15 [==============================] - ETA: 0s - loss: 0.8337 - categorical_accuracy: 0.6802\n",
      "Epoch 9: saving model to model_init_2024-03-0208_16_29.142857/model-00009-0.83365-0.68024-0.84582-0.70000.h5\n",
      "15/15 [==============================] - 43s 3s/step - loss: 0.8337 - categorical_accuracy: 0.6802 - val_loss: 0.8458 - val_categorical_accuracy: 0.7000 - lr: 0.0010\n",
      "Epoch 10/15\n",
      "15/15 [==============================] - ETA: 0s - loss: 0.7103 - categorical_accuracy: 0.7541\n",
      "Epoch 10: saving model to model_init_2024-03-0208_16_29.142857/model-00010-0.71032-0.75415-0.84352-0.75000.h5\n",
      "15/15 [==============================] - 53s 4s/step - loss: 0.7103 - categorical_accuracy: 0.7541 - val_loss: 0.8435 - val_categorical_accuracy: 0.7500 - lr: 0.0010\n",
      "Epoch 11/15\n",
      "15/15 [==============================] - ETA: 0s - loss: 0.6950 - categorical_accuracy: 0.7466\n",
      "Epoch 11: saving model to model_init_2024-03-0208_16_29.142857/model-00011-0.69502-0.74661-0.73426-0.72000.h5\n",
      "15/15 [==============================] - 47s 3s/step - loss: 0.6950 - categorical_accuracy: 0.7466 - val_loss: 0.7343 - val_categorical_accuracy: 0.7200 - lr: 0.0010\n",
      "Epoch 12/15\n",
      "15/15 [==============================] - ETA: 0s - loss: 0.4888 - categorical_accuracy: 0.8175\n",
      "Epoch 12: saving model to model_init_2024-03-0208_16_29.142857/model-00012-0.48877-0.81750-0.72308-0.78000.h5\n",
      "15/15 [==============================] - 44s 3s/step - loss: 0.4888 - categorical_accuracy: 0.8175 - val_loss: 0.7231 - val_categorical_accuracy: 0.7800 - lr: 0.0010\n",
      "Epoch 13/15\n",
      "15/15 [==============================] - ETA: 0s - loss: 0.4138 - categorical_accuracy: 0.8341\n",
      "Epoch 13: saving model to model_init_2024-03-0208_16_29.142857/model-00013-0.41384-0.83409-0.74223-0.72000.h5\n",
      "15/15 [==============================] - 50s 4s/step - loss: 0.4138 - categorical_accuracy: 0.8341 - val_loss: 0.7422 - val_categorical_accuracy: 0.7200 - lr: 0.0010\n",
      "Epoch 14/15\n",
      "15/15 [==============================] - ETA: 0s - loss: 0.4359 - categorical_accuracy: 0.8492\n",
      "Epoch 14: saving model to model_init_2024-03-0208_16_29.142857/model-00014-0.43588-0.84917-0.87552-0.74000.h5\n",
      "15/15 [==============================] - 48s 3s/step - loss: 0.4359 - categorical_accuracy: 0.8492 - val_loss: 0.8755 - val_categorical_accuracy: 0.7400 - lr: 0.0010\n",
      "Epoch 15/15\n",
      "15/15 [==============================] - ETA: 0s - loss: 0.4209 - categorical_accuracy: 0.8522\n",
      "Epoch 15: saving model to model_init_2024-03-0208_16_29.142857/model-00015-0.42087-0.85219-0.70519-0.80000.h5\n",
      "15/15 [==============================] - 45s 3s/step - loss: 0.4209 - categorical_accuracy: 0.8522 - val_loss: 0.7052 - val_categorical_accuracy: 0.8000 - lr: 0.0010\n"
     ]
    },
    {
     "data": {
      "text/plain": [
       "<keras.src.callbacks.History at 0x7fcc30d13150>"
      ]
     },
     "execution_count": 12,
     "metadata": {},
     "output_type": "execute_result"
    }
   ],
   "source": [
    "model.fit(\n",
    "    train_generator,\n",
    "    steps_per_epoch=steps_per_epoch,\n",
    "    epochs=num_epochs,\n",
    "    verbose=1,\n",
    "    callbacks=callbacks_list,\n",
    "    validation_data=val_generator,\n",
    "    validation_steps=validation_steps,\n",
    "    class_weight=None,\n",
    "    workers=1,\n",
    "    initial_epoch=0,\n",
    ")"
   ]
  },
  {
   "cell_type": "code",
   "execution_count": null,
   "metadata": {},
   "outputs": [],
   "source": []
  }
 ],
 "metadata": {
  "kernelspec": {
   "display_name": "Python 3",
   "language": "python",
   "name": "python3"
  },
  "language_info": {
   "codemirror_mode": {
    "name": "ipython",
    "version": 3
   },
   "file_extension": ".py",
   "mimetype": "text/x-python",
   "name": "python",
   "nbconvert_exporter": "python",
   "pygments_lexer": "ipython3",
   "version": "3.11.7"
  }
 },
 "nbformat": 4,
 "nbformat_minor": 2
}
